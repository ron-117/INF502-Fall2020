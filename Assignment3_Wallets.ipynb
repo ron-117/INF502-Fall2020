{
  "nbformat": 4,
  "nbformat_minor": 0,
  "metadata": {
    "colab": {
      "name": "Assignment3_Wallets.ipynb",
      "provenance": [],
      "collapsed_sections": [],
      "authorship_tag": "ABX9TyN6bvYzrCBfztvdudREZiLT",
      "include_colab_link": true
    },
    "kernelspec": {
      "name": "python3",
      "display_name": "Python 3"
    }
  },
  "cells": [
    {
      "cell_type": "markdown",
      "metadata": {
        "id": "view-in-github",
        "colab_type": "text"
      },
      "source": [
        "<a href=\"https://colab.research.google.com/github/ron-117/INF502-Fall2020/blob/master/Assignment3_Wallets.ipynb\" target=\"_parent\"><img src=\"https://colab.research.google.com/assets/colab-badge.svg\" alt=\"Open In Colab\"/></a>"
      ]
    },
    {
      "cell_type": "code",
      "metadata": {
        "id": "eJl0XgazEscS",
        "colab_type": "code",
        "colab": {
          "base_uri": "https://localhost:8080/",
          "height": 829
        },
        "outputId": "14703cd9-2ef7-4753-fe6f-914d30768a99"
      },
      "source": [
        "\n",
        "def high(Mlist):\n",
        "  sortlist=[Mlist[0],Mlist[1]*5,Mlist[2]*10,Mlist[3]*25,Mlist[4]*100]\n",
        "  sortlist.sort()\n",
        "  print(\"fattest wallet has \"+ str(sortlist[4]/100) + \" dollars\")\n",
        "\n",
        "def low(Mlist):\n",
        "  sortlist=[Mlist[0],Mlist[1]*5,Mlist[2]*10,Mlist[3]*25,Mlist[4]*100]\n",
        "  sortlist.sort()\n",
        "  print(\"skinniest wallet has\"+str(sortlist[0])+\" cents which is \"+str(sortlist[0]/100)+\" dollars\")\n",
        "\n",
        "\n",
        "if __name__== \"__main__\":\n",
        "\n",
        "  print(\"Please add money to wallet: \")\n",
        "        \n",
        "  Mlist=[]\n",
        "\n",
        "        \n",
        "  p = int(input(\"Enter Cents: \"))\n",
        "            \n",
        "  n = int(input(\"Enter Nickels: \"))\n",
        "            \n",
        "  d = int(input(\"Enter Dimes: \"))\n",
        "            \n",
        "  q = int(input(\"Enter Quarters: \"))\n",
        "           \n",
        "  do = int(input(\"Enter Dollars: \"))\n",
        "  Mlist=[p,n,d,q,do]\n",
        "  sortlist=[Mlist[0],Mlist[1]*5,Mlist[2]*10,Mlist[3]*25,Mlist[4]*100]\n",
        "  sortlist.sort()\n",
        "  z=p*1+n*5+d*10+q*25+do*100;  \n",
        "  print(\"\\n\")   \n",
        "  while 1:\n",
        "        print(\"1. fattest wallet\")\n",
        "        print(\"2. skinniest wallet \")\n",
        "        print(\"3. total in dollars\")\n",
        "        print(\"4. total in dimes\")\n",
        "        print(\"\\n\")\n",
        "        option = int(input(\"Please enter option : \"))\n",
        "        if option == 1:\n",
        "            print(\"fattest wallet has \"+ str(sortlist[4]/100) + \" dollars\")\n",
        "            #high(Mlist)\n",
        "\n",
        "        elif option == 2:\n",
        "            print(\"skinniest wallet has \"+str(sortlist[0])+\" cents which is \"+str(sortlist[0]/100)+\" dollars\")\n",
        "            #low(Mlist)\n",
        "\n",
        "        elif option == 3:\n",
        "            k=z/100\n",
        "            print(\"All together, wallet has \"+str(k)+\" dollars\")\n",
        "                \n",
        "\n",
        "        elif option == 4:\n",
        "             di=z/10\n",
        "             print(\"All together, wallet has \"+str(di)+\" dimes\")\n",
        "\n",
        "        else:\n",
        "            print(\"exit\\n\")\n",
        "            break;"
      ],
      "execution_count": null,
      "outputs": [
        {
          "output_type": "stream",
          "text": [
            "Please add money to wallet: \n",
            "Enter Cents: 5\n",
            "Enter Nickels: 10\n",
            "Enter Dimes: 20\n",
            "Enter Quarters: 30\n",
            "Enter Dollars: 40\n",
            "\n",
            "\n",
            "1. fattest wallet\n",
            "2. skinniest wallet \n",
            "3. total in dollars\n",
            "4. total in dimes\n",
            "\n",
            "\n",
            "Please enter option : 1\n",
            "fattest wallet has 40.0 dollars\n",
            "1. fattest wallet\n",
            "2. skinniest wallet \n",
            "3. total in dollars\n",
            "4. total in dimes\n",
            "\n",
            "\n",
            "Please enter option : 2\n",
            "skinniest wallet has 5 cents which is 0.05 dollars\n",
            "1. fattest wallet\n",
            "2. skinniest wallet \n",
            "3. total in dollars\n",
            "4. total in dimes\n",
            "\n",
            "\n",
            "Please enter option : 4\n",
            "All together, wallet has 500.5 dimes\n",
            "1. fattest wallet\n",
            "2. skinniest wallet \n",
            "3. total in dollars\n",
            "4. total in dimes\n",
            "\n",
            "\n",
            "Please enter option : 3\n",
            "All together, wallet has 50.05 dollars\n",
            "1. fattest wallet\n",
            "2. skinniest wallet \n",
            "3. total in dollars\n",
            "4. total in dimes\n",
            "\n",
            "\n"
          ],
          "name": "stdout"
        }
      ]
    }
  ]
}